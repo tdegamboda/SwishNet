{
 "cells": [
  {
   "cell_type": "markdown",
   "metadata": {},
   "source": [
    "# Q2 - Preprocessing Pipeline for the MUSAN Corpus"
   ]
  },
  {
   "cell_type": "markdown",
   "metadata": {},
   "source": [
    "## Import Libraries"
   ]
  },
  {
   "cell_type": "code",
   "execution_count": null,
   "metadata": {},
   "outputs": [],
   "source": [
    "import os\n",
    "import h5py\n",
    "import librosa\n",
    "import python_speech_features as psf\n",
    "import numpy as np\n",
    "import pickle\n",
    "from pathlib import Path\n",
    "\n",
    "import warnings\n",
    "warnings.filterwarnings('ignore')"
   ]
  },
  {
   "cell_type": "markdown",
   "metadata": {},
   "source": [
    "## Pipeline"
   ]
  },
  {
   "cell_type": "code",
   "execution_count": null,
   "metadata": {},
   "outputs": [],
   "source": [
    "def extract_features(root_path, target_path, clip_len = 0.5):\n",
    "    \n",
    "    target_path = Path(target_path)\n",
    "    \n",
    "    if target_path.exists():\n",
    "        if input('Target path exists... REMOVE? [Y/N] :').lower()=='y':\n",
    "            os.remove(str(target_path))\n",
    "\n",
    "    catg = ['noise', 'music', 'speech']\n",
    "    labeldict = {x : i for i, x in enumerate(catg)}\n",
    "    roots = {}\n",
    "    for c in catg:\n",
    "        roots[c]=root_path/c\n",
    "\n",
    "    fdict = dict((k, list(roots[k].glob('**/*.wav'))) for k in roots)\n",
    "            \n",
    "    names = []\n",
    "    \n",
    "    with h5py.File(target_path, mode = 'w') as fl:\n",
    "\n",
    "        for key in fdict.keys():\n",
    "            print('\\nProcessing', key, 'files: total =', len(fdict[key]))\n",
    "            for i, file in enumerate(fdict[key]):\n",
    "                if not (i+1) % 5:\n",
    "                        print(key.upper(), 'File', i+1, 'of', len(fdict[key]))\n",
    "\n",
    "                #load the audio file\n",
    "                signal, sr = librosa.load(file, sr = 16000)\n",
    "\n",
    "                # Start by removing silence\n",
    "                inter = librosa.effects.split(signal, top_db=40, frame_length=int(0.025*sr), hop_length=int(0.025*sr))\n",
    "                isig = np.concatenate(list(np.arange(*v) for v in inter), 0)\n",
    "                sig = signal[isig]\n",
    "                \n",
    "                # Equalise loudness\n",
    "                frms = psf.sigproc.framesig(sig, .25*sr, .25*sr)\n",
    "                frms = frms/frms.std(axis=-1, keepdims=True)\n",
    "                sig = psf.sigproc.deframesig(frms, siglen=len(sig), frame_len=.25*sr, frame_step= .25*sr)\n",
    "\n",
    "                #Segment files into clips : MUSAN is 16kHz hence 0.5s = 8000frames --> x seconds = x * sr\n",
    "                for count, x in enumerate(range(0, len(sig), int((clip_len * sr)//2))):\n",
    "\n",
    "                    clip = sig[x : x + int(clip_len * sr)]\n",
    "\n",
    "                    if len(clip) == (clip_len * sr):\n",
    "                        mfcc = psf.mfcc(clip, samplerate=sr, numcep=20, nfilt=32, winlen=0.025, winstep=0.015).astype(np.float32)\n",
    "\n",
    "                        name = '{}-{}'.format(str(count), str(file.relative_to(root_path)).split('/')[-1])\n",
    "                        names.append(name)\n",
    "                        grp = fl.create_group(name)\n",
    "                        grp['mfcc'] = mfcc\n",
    "                        grp['label'] = labeldict[key]\n",
    "                        \n",
    "    print(\"Saving file name list\")\n",
    "    with open(\"../data/f_list_{}s.txt\".format(clip_len), \"wb\") as fp:\n",
    "        pickle.dump(names, fp)"
   ]
  },
  {
   "cell_type": "markdown",
   "metadata": {},
   "source": [
    "## Main Function"
   ]
  },
  {
   "cell_type": "code",
   "execution_count": null,
   "metadata": {
    "scrolled": true
   },
   "outputs": [],
   "source": [
    "# Toy dataset\n",
    "\n",
    "root_path = Path(\"../data/musan_toy\")\n",
    "\n",
    "extract_features(root_path, '../data/musan_toy_dataset_2s.h5', clip_len = 2)"
   ]
  },
  {
   "cell_type": "code",
   "execution_count": null,
   "metadata": {
    "scrolled": true
   },
   "outputs": [],
   "source": [
    "# Full dataset\n",
    "\n",
    "root_path = Path(\"../data/musan\")\n",
    "\n",
    "clip_lengths = [0.5, 1, 2]\n",
    "\n",
    "for clip in clip_lengths:\n",
    "    target_path = '../data/musan_data_derived_{}s.h5'.format(clip)\n",
    "    extract_features(root_path, target_path, clip_len = clip)"
   ]
  },
  {
   "cell_type": "code",
   "execution_count": null,
   "metadata": {},
   "outputs": [],
   "source": [
    "# Check\n",
    "\n",
    "db = h5py.File('../data/musan_toy_dataset_2s.h5', mode = 'r')\n",
    "db['0-music-fma-0000.wav']['mfcc']"
   ]
  },
  {
   "cell_type": "code",
   "execution_count": null,
   "metadata": {},
   "outputs": [],
   "source": []
  }
 ],
 "metadata": {
  "kernelspec": {
   "display_name": "Python 3",
   "language": "python",
   "name": "python3"
  },
  "language_info": {
   "codemirror_mode": {
    "name": "ipython",
    "version": 3
   },
   "file_extension": ".py",
   "mimetype": "text/x-python",
   "name": "python",
   "nbconvert_exporter": "python",
   "pygments_lexer": "ipython3",
   "version": "3.7.4"
  }
 },
 "nbformat": 4,
 "nbformat_minor": 2
}
