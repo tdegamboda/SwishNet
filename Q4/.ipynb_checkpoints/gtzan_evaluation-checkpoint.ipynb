{
 "cells": [
  {
   "cell_type": "markdown",
   "metadata": {},
   "source": [
    "# Q4 - Evaluation on the GTZAN Dataset"
   ]
  },
  {
   "cell_type": "markdown",
   "metadata": {},
   "source": [
    "## Import Libraries"
   ]
  },
  {
   "cell_type": "markdown",
   "metadata": {},
   "source": [
    "From the imports, we also import the utils directory as a module which contains both the source code for the model and for Warm Restarts and Cosine Annealing"
   ]
  },
  {
   "cell_type": "code",
   "execution_count": null,
   "metadata": {},
   "outputs": [],
   "source": [
    "import sys\n",
    "import os\n",
    "import time\n",
    "import h5py\n",
    "import tqdm\n",
    "import pickle\n",
    "from pathlib import Path\n",
    "from IPython.display import clear_output\n",
    "\n",
    "# in jupyter (lab / notebook), based on notebook path\n",
    "module_path = str(Path.cwd().parents[0])\n",
    "\n",
    "if module_path not in sys.path:\n",
    "    sys.path.append(module_path)\n",
    "\n",
    "from utils.SwishNet import *\n",
    "from utils.SGDRScheduler import *\n",
    "\n",
    "import numpy as np\n",
    "import matplotlib.pyplot as plt\n",
    "import pandas as pd\n",
    "import seaborn as sns\n",
    "\n",
    "from sklearn.model_selection import train_test_split\n",
    "from sklearn.metrics import classification_report\n",
    "\n",
    "import tensorflow as tf\n",
    "import tensorflow.keras.backend as K\n",
    "\n",
    "from tensorflow.keras.optimizers import Adam\n",
    "from tensorflow.keras import Model\n",
    "from tensorflow.keras.callbacks import Callback, ModelCheckpoint, EarlyStopping"
   ]
  },
  {
   "cell_type": "code",
   "execution_count": null,
   "metadata": {
    "scrolled": true
   },
   "outputs": [],
   "source": [
    "tf.__version__"
   ]
  },
  {
   "cell_type": "code",
   "execution_count": null,
   "metadata": {},
   "outputs": [],
   "source": [
    "CLIP_LEN = 2\n",
    "\n",
    "# File path to dataset\n",
    "\n",
    "root_path = '../data/gtzan_dataset_{}s.h5'.format(CLIP_LEN)"
   ]
  },
  {
   "cell_type": "markdown",
   "metadata": {},
   "source": [
    "## Compile Datasets"
   ]
  },
  {
   "cell_type": "markdown",
   "metadata": {},
   "source": [
    "25% of the GTZAN corpus is used for the training set and the remaining 75% is used for evaluation"
   ]
  },
  {
   "cell_type": "code",
   "execution_count": null,
   "metadata": {},
   "outputs": [],
   "source": [
    "%%time\n",
    "\n",
    "# First produce a list of the file names to create splits\n",
    "\n",
    "with open('../data/gtzan_f_list_{}s.txt'.format(CLIP_LEN), 'rb') as fp:\n",
    "    f_list = pickle.load(fp)"
   ]
  },
  {
   "cell_type": "code",
   "execution_count": null,
   "metadata": {},
   "outputs": [],
   "source": [
    "idx_list = list(range(len(f_list)))\n",
    "\n",
    "train_idx, test_idx = train_test_split(idx_list, test_size = 0.75, shuffle = True, random_state = 2021)"
   ]
  },
  {
   "cell_type": "code",
   "execution_count": null,
   "metadata": {},
   "outputs": [],
   "source": [
    "# A simple generator class in order to build the necessary datasets for training\n",
    "\n",
    "class data_gen:\n",
    "    def __init__(self, file_list, idx_list, data_path):\n",
    "        self.file_list = file_list\n",
    "        self.idx_list = idx_list\n",
    "        self.data_path = data_path\n",
    "        \n",
    "    def chunker(self, lst, n, shuffle):\n",
    "        list_ = lst\n",
    "        if shuffle:\n",
    "            np.random.shuffle(list_)\n",
    "\n",
    "        chunks = [list_[i:i + n] for i in range(0, len(lst), n)]\n",
    "\n",
    "        return chunks\n",
    "    \n",
    "    def gen(self, batch_size = 100):\n",
    "\n",
    "        idx = self.idx_list\n",
    "\n",
    "        batches = self.chunker(idx, batch_size, shuffle = True)\n",
    "\n",
    "        with h5py.File(self.data_path, mode = 'r') as db:\n",
    "\n",
    "            for batch_indexes in batches:\n",
    "\n",
    "                batch_features = np.array([db[self.file_list[i]]['mfcc'][()] for i in batch_indexes])\n",
    "                batch_labels = np.array([db[self.file_list[i]]['label'][()] for i in batch_indexes])\n",
    "\n",
    "                yield [batch_features, batch_labels]\n",
    "                    \n",
    "    def build_dataset(self, chunk_size = 100):\n",
    "        st = time.time()\n",
    "        gen_ = self.gen(batch_size = chunk_size)\n",
    "        X = []\n",
    "        Y = []\n",
    "        for i, (x, y) in enumerate(gen_):\n",
    "            clear_output(wait = True)\n",
    "            print('Batch {} / {} read'.format(str(i + 1), str(len(self.idx_list) // chunk_size)))\n",
    "            X.append(x)\n",
    "            Y.append(y)\n",
    "        \n",
    "        print(\"Dataset built, now converting to numpy array\")\n",
    "        X = np.vstack(X)\n",
    "        Y = np.hstack(Y)\n",
    "        et = time.time()\n",
    "        \n",
    "        print(\"Took {}s to build dataset\".format(str(et - st)))\n",
    "\n",
    "        return X, Y"
   ]
  },
  {
   "cell_type": "code",
   "execution_count": null,
   "metadata": {
    "scrolled": false
   },
   "outputs": [],
   "source": [
    "train_gen = data_gen(f_list, train_idx, data_path = root_path)\n",
    "X_train, y_train = train_gen.build_dataset()"
   ]
  },
  {
   "cell_type": "code",
   "execution_count": null,
   "metadata": {},
   "outputs": [],
   "source": [
    "print(X_train.shape)\n",
    "print(y_train.shape)\n",
    "\n",
    "input_shape = (X_train.shape[1], X_train.shape[2])"
   ]
  },
  {
   "cell_type": "code",
   "execution_count": null,
   "metadata": {},
   "outputs": [],
   "source": [
    "test_gen = data_gen(f_list, test_idx, data_path = root_path)\n",
    "X_test, y_test = test_gen.build_dataset()"
   ]
  },
  {
   "cell_type": "code",
   "execution_count": null,
   "metadata": {},
   "outputs": [],
   "source": [
    "print(X_test.shape)\n",
    "print(y_test.shape)"
   ]
  },
  {
   "cell_type": "markdown",
   "metadata": {},
   "source": [
    "## Fine-tuning on the Train Set"
   ]
  },
  {
   "cell_type": "markdown",
   "metadata": {},
   "source": [
    "The trained model is now fine-tuned on the train set with a low learning rate for 50 epochs. Note we want to avoid the accuracy during training from converging to 1 early in training"
   ]
  },
  {
   "cell_type": "code",
   "execution_count": null,
   "metadata": {},
   "outputs": [],
   "source": [
    "initial_lr = 5e-4\n",
    "\n",
    "net = SwishNet(input_shape=input_shape, classes=3)\n",
    "net.load_weights(\"../model_params/model_{}s.h5\".format(CLIP_LEN), by_name = True)\n",
    "net.compile(loss='sparse_categorical_crossentropy',\n",
    "              optimizer= Adam(learning_rate = initial_lr), \n",
    "              metrics=['accuracy'])\n",
    "net.summary()"
   ]
  },
  {
   "cell_type": "code",
   "execution_count": null,
   "metadata": {
    "scrolled": true
   },
   "outputs": [],
   "source": [
    "BATCH_SIZE = 128\n",
    "\n",
    "history = net.fit(X_train, \n",
    "                  y_train, \n",
    "                  epochs=50, \n",
    "                  batch_size = BATCH_SIZE, \n",
    "                  verbose=1, \n",
    "                  shuffle = True,\n",
    "                  max_queue_size = 5, \n",
    "                  workers = 2, \n",
    "                  use_multiprocessing = True)"
   ]
  },
  {
   "cell_type": "code",
   "execution_count": null,
   "metadata": {},
   "outputs": [],
   "source": [
    "plt.plot(history.history['loss'], label = \"Training Loss\")\n",
    "plt.title(\"Training Loss\")\n",
    "plt.savefig(\"../docs/plots/gtzan_loss_{}s.png\".format(CLIP_LEN), dpi = 1000)"
   ]
  },
  {
   "cell_type": "code",
   "execution_count": null,
   "metadata": {},
   "outputs": [],
   "source": [
    "plt.plot(history.history['acc'], label = \"Training Acc\")\n",
    "plt.title(\"Training Accuracy\")\n",
    "plt.savefig(\"../docs/plots/gtzan_acc_{}s.png\".format(CLIP_LEN), dpi = 1000)"
   ]
  },
  {
   "cell_type": "markdown",
   "metadata": {},
   "source": [
    "## Evaluation"
   ]
  },
  {
   "cell_type": "markdown",
   "metadata": {},
   "source": [
    "For the purpose of this task we must produce metrics of Accuracy, Class-wise Recall, Average F1. This can be conveniently done using the classification_report method from the scikit-learn library"
   ]
  },
  {
   "cell_type": "code",
   "execution_count": null,
   "metadata": {},
   "outputs": [],
   "source": [
    "test_loss, test_acc = net.evaluate(X_test, y_test, verbose = 1)"
   ]
  },
  {
   "cell_type": "code",
   "execution_count": null,
   "metadata": {},
   "outputs": [],
   "source": [
    "test_acc"
   ]
  },
  {
   "cell_type": "code",
   "execution_count": null,
   "metadata": {},
   "outputs": [],
   "source": [
    "preds = net.predict(X_test, verbose = 1)"
   ]
  },
  {
   "cell_type": "code",
   "execution_count": null,
   "metadata": {},
   "outputs": [],
   "source": [
    "catg = ['noise', 'music', 'speech']\n",
    "label2idx = {x : i for i, x in enumerate(catg)}\n",
    "idx2label = {i : x for i, x in enumerate(catg)}"
   ]
  },
  {
   "cell_type": "code",
   "execution_count": null,
   "metadata": {},
   "outputs": [],
   "source": [
    "y_labels = [idx2label[i] for i in y_test]\n",
    "pred_labels = [idx2label[np.argmax(i)] for i in preds]"
   ]
  },
  {
   "cell_type": "code",
   "execution_count": null,
   "metadata": {},
   "outputs": [],
   "source": [
    "print(classification_report(y_labels, pred_labels, target_names=catg[1:]))"
   ]
  },
  {
   "cell_type": "code",
   "execution_count": null,
   "metadata": {},
   "outputs": [],
   "source": []
  }
 ],
 "metadata": {
  "kernelspec": {
   "display_name": "Python 3",
   "language": "python",
   "name": "python3"
  },
  "language_info": {
   "codemirror_mode": {
    "name": "ipython",
    "version": 3
   },
   "file_extension": ".py",
   "mimetype": "text/x-python",
   "name": "python",
   "nbconvert_exporter": "python",
   "pygments_lexer": "ipython3",
   "version": "3.7.4"
  }
 },
 "nbformat": 4,
 "nbformat_minor": 2
}
